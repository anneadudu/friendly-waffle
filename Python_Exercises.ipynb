{
  "cells": [
    {
      "cell_type": "code",
      "execution_count": null,
      "metadata": {
        "colab": {
          "base_uri": "https://localhost:8080/"
        },
        "id": "WSkDdchiogM8",
        "outputId": "f7a1e78e-bdc3-40eb-adc4-4beb9e7e14fa"
      },
      "outputs": [
        {
          "name": "stdout",
          "output_type": "stream",
          "text": [
            "Guessing Game\n",
            "65\n",
            "Too low\n",
            "It's enough\n",
            "54\n",
            "Too low\n",
            "It's enough\n",
            "44\n",
            "Too low\n",
            "It's enough\n",
            "44\n",
            "Too low\n",
            "It's enough\n",
            "43\n",
            "Too low\n",
            "It's enough\n",
            "33\n",
            "Too low\n",
            "It's enough\n"
          ]
        }
      ],
      "source": [
        "from typing import ForwardRef\n",
        "import random\n",
        "print(\"Guessing Game\")\n",
        "number = random.randint(1, 50)\n",
        "attempts = 6\n",
        "while attempts > 0:\n",
        "  guess = int(input(guess))\n",
        "  if guess == number:\n",
        "    print(\"Try again\")\n",
        "  elif guess > number:\n",
        "    print(\"Too high\")\n",
        "  elif guess < number:\n",
        "    print(\"Too low\")\n",
        "  attempts -=1\n",
        "  print(\"It's enough\")"
      ]
    },
    {
      "cell_type": "code",
      "execution_count": null,
      "metadata": {
        "colab": {
          "base_uri": "https://localhost:8080/"
        },
        "id": "cjwqbC76rR5U",
        "outputId": "c9ff888d-6fc5-4e5c-f4b1-f3dc83c6cada"
      },
      "outputs": [
        {
          "name": "stdout",
          "output_type": "stream",
          "text": [
            "Welcome to the Grade Calculator\n",
            "Please put in your grade 60\n",
            "Splendid\n",
            "Please put in your grade 30\n",
            "You can do better\n",
            "It's enough\n",
            "Please put in your grade 40\n",
            "Splendid\n"
          ]
        }
      ],
      "source": [
        "print(\"Welcome to the Grade Calculator\")\n",
        "number = random.randint(1, 100)\n",
        "attempts = 3\n",
        "for _ in range(attempts):\n",
        "  Grade = int(input(\"Please put in your grade \"))\n",
        "  if Grade > number:\n",
        "    print(\"Splendid\")\n",
        "  elif Grade < number:\n",
        "    print(\"You can do better\")\n",
        "    attempts -=1\n",
        "    print(\"It's enough\")\n"
      ]
    },
    {
      "cell_type": "code",
      "execution_count": null,
      "metadata": {
        "colab": {
          "base_uri": "https://localhost:8080/"
        },
        "id": "GkDGcSJas0k3",
        "outputId": "d9112e28-1bf0-4422-a826-26e3b96e5e4d"
      },
      "outputs": [
        {
          "name": "stdout",
          "output_type": "stream",
          "text": [
            " 1 is an odd number\n",
            " 2 is an even number\n",
            " 3 is an odd number\n",
            " 4 is an even number\n",
            " 5 is an odd number\n",
            " 6 is an even number\n",
            " 7 is an odd number\n",
            " 8 is an even number\n",
            " 9 is an odd number\n",
            " 10 is an even number\n",
            " 11 is an odd number\n",
            " 12 is an even number\n",
            " 13 is an odd number\n",
            " 14 is an even number\n",
            " 15 is an odd number\n",
            " 16 is an even number\n",
            " 17 is an odd number\n",
            " 18 is an even number\n",
            " 19 is an odd number\n",
            " 20 is an even number\n",
            " 21 is an odd number\n",
            " 22 is an even number\n",
            " 23 is an odd number\n",
            " 24 is an even number\n",
            " 25 is an odd number\n",
            " 26 is an even number\n",
            " 27 is an odd number\n",
            " 28 is an even number\n",
            " 29 is an odd number\n",
            " 30 is an even number\n",
            " 31 is an odd number\n",
            " 32 is an even number\n",
            " 33 is an odd number\n",
            " 34 is an even number\n",
            " 35 is an odd number\n",
            " 36 is an even number\n",
            " 37 is an odd number\n",
            " 38 is an even number\n",
            " 39 is an odd number\n",
            " 40 is an even number\n",
            " 41 is an odd number\n",
            " 42 is an even number\n",
            " 43 is an odd number\n",
            " 44 is an even number\n",
            " 45 is an odd number\n",
            " 46 is an even number\n",
            " 47 is an odd number\n",
            " 48 is an even number\n",
            " 49 is an odd number\n",
            " 50 is an even number\n",
            " 51 is an odd number\n",
            " 52 is an even number\n",
            " 53 is an odd number\n",
            " 54 is an even number\n",
            " 55 is an odd number\n",
            " 56 is an even number\n",
            " 57 is an odd number\n",
            " 58 is an even number\n",
            " 59 is an odd number\n",
            " 60 is an even number\n",
            " 61 is an odd number\n",
            " 62 is an even number\n",
            " 63 is an odd number\n",
            " 64 is an even number\n",
            " 65 is an odd number\n",
            " 66 is an even number\n",
            " 67 is an odd number\n",
            " 68 is an even number\n",
            " 69 is an odd number\n",
            " 70 is an even number\n",
            " 71 is an odd number\n",
            " 72 is an even number\n",
            " 73 is an odd number\n",
            " 74 is an even number\n",
            " 75 is an odd number\n",
            " 76 is an even number\n",
            " 77 is an odd number\n",
            " 78 is an even number\n",
            " 79 is an odd number\n",
            " 80 is an even number\n",
            " 81 is an odd number\n",
            " 82 is an even number\n",
            " 83 is an odd number\n",
            " 84 is an even number\n",
            " 85 is an odd number\n",
            " 86 is an even number\n",
            " 87 is an odd number\n",
            " 88 is an even number\n",
            " 89 is an odd number\n",
            " 90 is an even number\n",
            " 91 is an odd number\n",
            " 92 is an even number\n",
            " 93 is an odd number\n",
            " 94 is an even number\n",
            " 95 is an odd number\n",
            " 96 is an even number\n",
            " 97 is an odd number\n",
            " 98 is an even number\n",
            " 99 is an odd number\n",
            " 100 is an even number\n"
          ]
        }
      ],
      "source": [
        "for number in range(1, 101):\n",
        "  if number % 2 == 0:\n",
        "    print(f\" {number} is an even number\")\n",
        "  else:\n",
        "    print(f\" {number} is an odd number\")\n",
        "\n",
        "\n"
      ]
    },
    {
      "cell_type": "code",
      "execution_count": null,
      "metadata": {
        "colab": {
          "base_uri": "https://localhost:8080/"
        },
        "id": "4hszqpAZw9cy",
        "outputId": "7824bf6e-2d01-482f-9a82-7bde92478000"
      },
      "outputs": [
        {
          "name": "stdout",
          "output_type": "stream",
          "text": [
            "A Simple Calculator\n",
            "Please enter the first number: 3\n",
            "Please enter the second number: 4\n",
            "Choose an operation: '+', '-', '*', '/' +\n",
            "The result of 3.0 + 4.0 is: 7.0\n"
          ]
        }
      ],
      "source": [
        "print(\"A Simple Calculator\")\n",
        "\n",
        "# Input two numbers and convert them to floats for calculation\n",
        "num1 = float(input(\"Please enter the first number: \"))\n",
        "num2 = float(input(\"Please enter the second number: \"))\n",
        "\n",
        "# Choose the operation\n",
        "options = input(\"Choose an operation: '+', '-', '*', '/' \")\n",
        "\n",
        "# Perform the chosen operation\n",
        "if options == '+':\n",
        "    result = num1 + num2\n",
        "    print(f\"The result of {num1} + {num2} is: {result}\")\n",
        "elif options == '-':\n",
        "    result = num1 - num2\n",
        "    print(f\"The result of {num1} - {num2} is: {result}\")\n",
        "elif options == '*':\n",
        "    result = num1 * num2\n",
        "    print(f\"The result of {num1} * {num2} is: {result}\")\n",
        "elif options == '/':\n",
        "    if num2 != 0:  # Prevent division by zero\n",
        "        result = num1 / num2\n",
        "        print(f\"The result of {num1} / {num2} is: {result}\")\n",
        "    else:\n",
        "        print(\"Error: Division by zero is not allowed.\")\n",
        "else:\n",
        "    print(\"Invalid input.\")\n"
      ]
    },
    {
      "cell_type": "code",
      "execution_count": null,
      "metadata": {
        "colab": {
          "base_uri": "https://localhost:8080/"
        },
        "id": "YM5xwZ4r06Js",
        "outputId": "ee0f43ec-1c02-4517-a366-f87188b3d41c"
      },
      "outputs": [
        {
          "output_type": "stream",
          "name": "stdout",
          "text": [
            "ATM Simulation\n",
            "Hello!\n",
            "What do you wish to do today? : 'Check Balance' or 'Deposit money' or 'Withdraw money'  Withdraw money\n",
            "Please input your pin here: 6444\n",
            "What is your balance? 4000\n",
            "How much do you want to withdraw today? 8000\n",
            "Insufficient funds\n"
          ]
        }
      ],
      "source": [
        "print(\"ATM Simulation\")\n",
        "print(\"Hello!\")\n",
        "options =input(\"What do you wish to do today? : 'Check Balance' or 'Deposit money' or 'Withdraw money'  \")\n",
        "pin = input(\"Please input your pin here: \")\n",
        "balance = int(input(\"What is your balance? \"))\n",
        "if options == 'Check Balance':\n",
        "  print(f\"This is your balance {balance}\")\n",
        "elif options == 'Deposit money':\n",
        "  increment =int(input(\"How much do you want to deposit today? \"))\n",
        "  balance += increment\n",
        "  print(f\"This is your balance available now {balance}\")\n",
        "elif options == 'Withdraw money':\n",
        "  money =int(input(\"How much do you want to withdraw today? \"))\n",
        "  if money > balance:\n",
        "      print(\"Insufficient funds\")\n",
        "  else:\n",
        "      balance -= money\n",
        "      print(f\"You have withdrawn successfully {money}\")\n",
        "else:\n",
        "  print(\"Have a great day!\")\n"
      ]
    },
    {
      "cell_type": "code",
      "source": [
        "print(\"Welcome to my Shopping List!\")\n",
        "choice = input(\"What are you buying, please give a choice? \")\n",
        "items =\"\"\n",
        "for _ in choice:\n",
        "  extra =input(\"Do you want to 'add' or 'remove' another thing to \" +  \"your \" + choice + \"? \")\n",
        "  if extra == 'add':\n",
        "    added_items = input(\"What do you want to add again? \")\n",
        "    _\n",
        "    items +=\n",
        "    print(f\"These are your  added items {items}\")\n",
        "  else:\n",
        "    if extra == 'remove':\n",
        "      _ = items\n",
        "      print(_)\n",
        "\n",
        "\n",
        "\n",
        "\n",
        "\n"
      ],
      "metadata": {
        "colab": {
          "base_uri": "https://localhost:8080/"
        },
        "id": "KWL_64b5yG5Q",
        "outputId": "6eb50c75-6f6d-4f53-e5dc-3b82905b76ca"
      },
      "execution_count": null,
      "outputs": [
        {
          "name": "stdout",
          "output_type": "stream",
          "text": [
            "Welcome to my Shopping List!\n",
            "What are you buying, please give a choice? d\n",
            "Do you want to 'add' or 'remove' another thing to your d? c\n"
          ]
        }
      ]
    },
    {
      "cell_type": "code",
      "source": [
        "print(\"Welcome to my Shopping List!\")\n",
        "shopping_list = []  # Initialize an empty shopping list\n",
        "\n",
        "while True:  # Start a loop to keep asking the user for input\n",
        "    choice = input(\"What would you like to add to your shopping list? \")\n",
        "    shopping_list.append(choice)  # Add the initial item to the shopping list\n",
        "    print(f\"Current shopping list: {shopping_list}\")\n",
        "\n",
        "    while True:  # Inner loop to ask if they want to add or remove items\n",
        "        extra = input(\"Do you want to 'add' or 'remove' an item, or 'done' to finish? \").lower()\n",
        "\n",
        "        if extra == 'add':\n",
        "            added_item = input(\"What would you like to add? \")\n",
        "            shopping_list.append(added_item)\n",
        "            print(f\"Current shopping list: {shopping_list}\")\n",
        "\n",
        "        elif extra == 'remove':\n",
        "            removed_item = input(f\"What item do you want to remove from {shopping_list}? \")\n",
        "            if removed_item in shopping_list:\n",
        "                shopping_list.remove(removed_item)\n",
        "                print(f\"Current shopping list: {shopping_list}\")\n",
        "            else:\n",
        "                print(f\"{removed_item} is not in the shopping list.\")\n",
        "\n",
        "        elif extra == 'done':\n",
        "            print(f\"Final shopping list: {shopping_list}\")\n",
        "            break  # Exit the inner loop\n",
        "\n",
        "        else:\n",
        "            print(\"Invalid option. Please type 'add', 'remove', or 'done'.\")\n",
        "\n",
        "    finish = input(\"Do you want to continue shopping? (yes/no) \").lower()\n",
        "    if finish == 'no':\n",
        "        print(f\"Your final shopping list is: {shopping_list}\")\n",
        "        break  # Exit the outer loop\n"
      ],
      "metadata": {
        "id": "TBUxzLL_7ZKq"
      },
      "execution_count": null,
      "outputs": []
    },
    {
      "cell_type": "code",
      "source": [
        "print(\"Palindrome Checker\")"
      ],
      "metadata": {
        "id": "Y9kA2kFZ59IN"
      },
      "execution_count": null,
      "outputs": []
    },
    {
      "cell_type": "code",
      "source": [
        "for _ in range(10):\n",
        "  print(_)"
      ],
      "metadata": {
        "colab": {
          "base_uri": "https://localhost:8080/"
        },
        "id": "3S2-AZ66Al6K",
        "outputId": "5faa7127-1d81-4154-fcf9-6d8c3e05f720"
      },
      "execution_count": null,
      "outputs": [
        {
          "output_type": "stream",
          "name": "stdout",
          "text": [
            "0\n",
            "1\n",
            "2\n",
            "3\n",
            "4\n",
            "5\n",
            "6\n",
            "7\n",
            "8\n",
            "9\n"
          ]
        }
      ]
    },
    {
      "cell_type": "code",
      "source": [
        "count = 0\n",
        "while count < 10:\n",
        "  print(count)\n",
        "  count +=1"
      ],
      "metadata": {
        "colab": {
          "base_uri": "https://localhost:8080/"
        },
        "id": "Vuf21aBOAuhM",
        "outputId": "0d82c014-7136-4f54-a145-1c1582bef6a1"
      },
      "execution_count": null,
      "outputs": [
        {
          "output_type": "stream",
          "name": "stdout",
          "text": [
            "0\n",
            "1\n",
            "2\n",
            "3\n",
            "4\n",
            "5\n",
            "6\n",
            "7\n",
            "8\n",
            "9\n"
          ]
        }
      ]
    },
    {
      "cell_type": "code",
      "source": [
        "for _ in range(1, 21, 1):\n",
        "  if _ % 2 ==0:\n",
        "    print(_)"
      ],
      "metadata": {
        "colab": {
          "base_uri": "https://localhost:8080/"
        },
        "id": "WUthlpwfBGxG",
        "outputId": "e6a42729-40e4-4403-902d-b85bf7d36c90"
      },
      "execution_count": null,
      "outputs": [
        {
          "output_type": "stream",
          "name": "stdout",
          "text": [
            "2\n",
            "4\n",
            "6\n",
            "8\n",
            "10\n",
            "12\n",
            "14\n",
            "16\n",
            "18\n",
            "20\n"
          ]
        }
      ]
    },
    {
      "cell_type": "code",
      "source": [
        "user = input(\"Where do you live? \")\n",
        "\n",
        "while user.lower() != \"exit\":  # Keep asking until the user types \"exit\"\n",
        "    print(f\"You live in {user}.\")\n",
        "    user = input(\"Where do you live? (type 'exit' to stop) \")\n",
        "\n",
        "print(\"Goodbye!\")\n"
      ],
      "metadata": {
        "colab": {
          "base_uri": "https://localhost:8080/"
        },
        "id": "_oheL1hZBWZS",
        "outputId": "f6b0b7da-e0aa-45ff-cf71-bb8c05c96ad2"
      },
      "execution_count": null,
      "outputs": [
        {
          "output_type": "stream",
          "name": "stdout",
          "text": [
            "Where do you live? j\n",
            "You live in j.\n",
            "Where do you live? (type 'exit' to stop) k\n",
            "You live in k.\n",
            "Where do you live? (type 'exit' to stop) exit\n",
            "Goodbye!\n"
          ]
        }
      ]
    },
    {
      "cell_type": "code",
      "source": [
        "# Get user input\n",
        "numbers = input(\"Enter a series of numbers (separated by spaces): \").split()\n",
        "\n",
        "# Loop through the numbers\n",
        "for num in numbers:\n",
        "    num = int(num)  # Convert input from string to integer\n",
        "\n",
        "    if num == 0:\n",
        "        print(\"Stopping program as 0 was entered.\")\n",
        "        break  # Stop the loop if 0 is entered\n",
        "\n",
        "    if num < 0:\n",
        "        print(f\"{num} is Negative\")\n",
        "    elif num % 2 == 0:\n",
        "        print(f\"{num} is Even\")\n",
        "    elif:\n",
        "        print(f\"{num} is Odd\")\n"
      ],
      "metadata": {
        "colab": {
          "base_uri": "https://localhost:8080/"
        },
        "id": "wLXUag6vC4v-",
        "outputId": "b3a2a67d-36fa-4c88-bf2b-1f5c1f08f0bf"
      },
      "execution_count": null,
      "outputs": [
        {
          "output_type": "stream",
          "name": "stdout",
          "text": [
            "Enter a series of numbers (separated by spaces): 4 3 2 \n",
            "4 is Even\n",
            "3 is Odd\n",
            "2 is Even\n"
          ]
        }
      ]
    },
    {
      "cell_type": "code",
      "source": [
        "print(\"FizzBuzz\")\n",
        "for _ in range(1, 51):\n",
        "  print(_)\n",
        "  if _ % 3 == 0 and _ % 5 == 0:\n",
        "    print(\"FizzBuzz\")\n",
        "  elif _ % 3 == 0:\n",
        "    print(\"Fizz\")\n",
        "  elif _ % 5 == 0:\n",
        "    print(\"Buzz\")\n",
        "  else:\n",
        "    if _ % 1 == _ and _ % _ == 1:\n",
        "      print(prime)\n"
      ],
      "metadata": {
        "colab": {
          "base_uri": "https://localhost:8080/"
        },
        "id": "2GhCQkQcD2yj",
        "outputId": "a3b0c1a9-fef9-4e37-aedd-1097b6571f79"
      },
      "execution_count": null,
      "outputs": [
        {
          "output_type": "stream",
          "name": "stdout",
          "text": [
            "FizzBuzz\n",
            "1\n",
            "2\n",
            "3\n",
            "Fizz\n",
            "4\n",
            "5\n",
            "Buzz\n",
            "6\n",
            "Fizz\n",
            "7\n",
            "8\n",
            "9\n",
            "Fizz\n",
            "10\n",
            "Buzz\n",
            "11\n",
            "12\n",
            "Fizz\n",
            "13\n",
            "14\n",
            "15\n",
            "FizzBuzz\n",
            "16\n",
            "17\n",
            "18\n",
            "Fizz\n",
            "19\n",
            "20\n",
            "Buzz\n",
            "21\n",
            "Fizz\n",
            "22\n",
            "23\n",
            "24\n",
            "Fizz\n",
            "25\n",
            "Buzz\n",
            "26\n",
            "27\n",
            "Fizz\n",
            "28\n",
            "29\n",
            "30\n",
            "FizzBuzz\n",
            "31\n",
            "32\n",
            "33\n",
            "Fizz\n",
            "34\n",
            "35\n",
            "Buzz\n",
            "36\n",
            "Fizz\n",
            "37\n",
            "38\n",
            "39\n",
            "Fizz\n",
            "40\n",
            "Buzz\n",
            "41\n",
            "42\n",
            "Fizz\n",
            "43\n",
            "44\n",
            "45\n",
            "FizzBuzz\n",
            "46\n",
            "47\n",
            "48\n",
            "Fizz\n",
            "49\n",
            "50\n",
            "Buzz\n"
          ]
        }
      ]
    },
    {
      "cell_type": "code",
      "source": [
        "print(\"Welcome\")\n",
        "num =int(input(\"Please enter a number: \"))\n",
        "if num % 2 == 0:\n",
        "  print(\"This is an even number \" + str(num))\n",
        "else:\n",
        "  print(\"This is an odd number \" + str(num))"
      ],
      "metadata": {
        "colab": {
          "base_uri": "https://localhost:8080/"
        },
        "id": "TwKMptZl5-xQ",
        "outputId": "510308b6-dd28-4feb-ebc2-23b1f6bbdcbc"
      },
      "execution_count": null,
      "outputs": [
        {
          "output_type": "stream",
          "name": "stdout",
          "text": [
            "Welcome\n",
            "Please enter a number: 3\n",
            "This is an odd number 3\n"
          ]
        }
      ]
    },
    {
      "cell_type": "code",
      "source": [
        "number = 0\n",
        "N = int(input(\"Please enter a number: \"))\n",
        "for _ in range (1,N + 1):\n",
        "  number += _\n",
        "  print(number)\n"
      ],
      "metadata": {
        "colab": {
          "base_uri": "https://localhost:8080/"
        },
        "id": "g211A1Z29e4k",
        "outputId": "401b751f-ebd8-4f36-8240-bb1931922f80"
      },
      "execution_count": null,
      "outputs": [
        {
          "output_type": "stream",
          "name": "stdout",
          "text": [
            "Please enter a number: 2\n",
            "1\n",
            "3\n"
          ]
        }
      ]
    },
    {
      "cell_type": "code",
      "source": [
        "# python\n",
        "# Copy code\n",
        "# Sum of numbers from 1 to N\n",
        "N = int(input(\"Enter a number: \"))\n",
        "\n",
        "# Initialize sum variable\n",
        "total_sum = 0\n",
        "\n",
        "# Loop from 1 to N and add each number to total_sum\n",
        "for number in range(1, N + 1):\n",
        "    total_sum += number\n",
        "\n",
        "# Print the result\n",
        "print(f\"The sum of numbers from 1 to {N} is: {total_sum}\")"
      ],
      "metadata": {
        "colab": {
          "base_uri": "https://localhost:8080/"
        },
        "id": "9vaOewcI-fdC",
        "outputId": "b6e965d2-2117-40df-ef0b-c55161274a8b"
      },
      "execution_count": null,
      "outputs": [
        {
          "output_type": "stream",
          "name": "stdout",
          "text": [
            "Enter a number: 2\n",
            "The sum of numbers from 1 to 2 is: 3\n"
          ]
        }
      ]
    },
    {
      "cell_type": "code",
      "source": [
        "# Multiplication Table Generator\n",
        "number = int(input(\"Enter a number: \"))\n",
        "\n",
        "# Loop through 1 to 12 and print the multiplication table\n",
        "for i in range(1, 13):\n",
        "    print(f\"{number} x {i} = {number * i}\")"
      ],
      "metadata": {
        "colab": {
          "base_uri": "https://localhost:8080/"
        },
        "id": "UMmVyAu6_5iW",
        "outputId": "923027bc-f42f-43b3-b523-f47c88218b7c"
      },
      "execution_count": null,
      "outputs": [
        {
          "output_type": "stream",
          "name": "stdout",
          "text": [
            "Enter a number: 3\n",
            "3 x 1 = 3\n",
            "3 x 2 = 6\n",
            "3 x 3 = 9\n",
            "3 x 4 = 12\n",
            "3 x 5 = 15\n",
            "3 x 6 = 18\n",
            "3 x 7 = 21\n",
            "3 x 8 = 24\n",
            "3 x 9 = 27\n",
            "3 x 10 = 30\n",
            "3 x 11 = 33\n",
            "3 x 12 = 36\n"
          ]
        }
      ]
    },
    {
      "cell_type": "code",
      "source": [
        "# Prime Number Checker\n",
        "number = int(input(\"Enter a number: \"))\n",
        "\n",
        "# A prime number is greater than 1 and has no divisors other than 1 and itself\n",
        "if number > 1:\n",
        "    # Check for factors\n",
        "    for i in range(2, number):\n",
        "        if number % i == 0:\n",
        "            print(f\"{number} is not a prime number.\")\n",
        "            print(f\"It is divisible by {i}.\")\n",
        "            break\n",
        "    else:\n",
        "        print(f\"{number} is a prime number.\")\n",
        "else:\n",
        "    print(f\"{number} is not a prime number.\")\n"
      ],
      "metadata": {
        "id": "JTLhbR4cAj7L"
      },
      "execution_count": null,
      "outputs": []
    },
    {
      "cell_type": "code",
      "source": [
        "# Fibonacci Sequence Generator\n",
        "n = int(input(\"Enter the number of terms: \"))\n",
        "\n",
        "# Starting the Fibonacci sequence\n",
        "a, b = 0, 1\n",
        "count = 0\n",
        "\n",
        "# Print the Fibonacci sequence up to n terms\n",
        "if n <= 0:\n",
        "    print(\"Please enter a positive number.\")\n",
        "elif n == 1:\n",
        "    print(f\"Fibonacci sequence up to {n} term: {a}\")\n",
        "else:\n",
        "    print(f\"Fibonacci sequence up to {n} terms:\")\n",
        "    while count < n:\n",
        "        print(a, end=\", \" if count < n - 1 else \"\\n\")\n",
        "        a, b = b, a + b  # Move to the next number in the sequence\n",
        "        count += 1\n"
      ],
      "metadata": {
        "id": "tg5n8mVnBaKm"
      },
      "execution_count": null,
      "outputs": []
    },
    {
      "cell_type": "code",
      "source": [
        "import random\n",
        "print(\"Guess the Number!\")\n",
        "pick = random.randint(1, 100)\n",
        "while True:\n",
        "  name=input(\"What is your name? \")\n",
        "  guess = int(input(\"What are you intending to put out here? \"))\n",
        "  if guess > pick:\n",
        "    print(f\"Your guess: {guess} is way too high!\")\n",
        "  elif guess < pick:\n",
        "    print(f\"Your guess: {guess} is quite low\")\n",
        "  else:\n",
        "    if guess == pick:\n",
        "      print(f\"Your guess: {guess} is correct!\")\n",
        "      pick = False\n",
        "  print(\"You have successfully ended the game \")"
      ],
      "metadata": {
        "id": "745fwGH9Cn2T"
      },
      "execution_count": null,
      "outputs": []
    },
    {
      "cell_type": "code",
      "source": [
        "import random\n",
        "import string\n",
        "\n",
        "# Define the character sets\n",
        "letters = string.ascii_letters  # Contains both uppercase and lowercase letters\n",
        "numbers = string.digits         # Contains numbers (0-9)\n",
        "symbols = string.punctuation    # Contains symbols like !@#$%^&*()\n",
        "\n",
        "# Combine all the character sets\n",
        "all_characters = letters + numbers + symbols\n",
        "\n",
        "# Ask the user for the desired password length\n",
        "password_length = int(input(\"Enter the desired password length: \"))\n",
        "\n",
        "# Generate a random password\n",
        "password = ''.join(random.choice(all_characters) for _ in range(password_length))\n",
        "\n",
        "# Output the generated password\n",
        "print(f\"Your randomly generated password is: {password}\")\n"
      ],
      "metadata": {
        "id": "vtoQk2SFMM8i"
      },
      "execution_count": null,
      "outputs": []
    },
    {
      "cell_type": "code",
      "source": [
        "# Ask the user to input a string\n",
        "user_input = input(\"Please enter a string: \")\n",
        "\n",
        "# Reverse the string\n",
        "reversed_string = user_input[::-1]\n",
        "\n",
        "# Print the reversed string\n",
        "print(\"The reversed string is:\", reversed_string)\n"
      ],
      "metadata": {
        "id": "53y2x2Q9MM11"
      },
      "execution_count": null,
      "outputs": []
    },
    {
      "cell_type": "code",
      "source": [
        "import random\n",
        "\n",
        "print(\"Guess the Number!\")\n",
        "# Generate a random number between 1 and 100\n",
        "pick = random.randint(1, 100)\n",
        "attempts = 5\n",
        "\n",
        "# Start the guessing game\n",
        "while attempts > 0:\n",
        "    name = input(\"What is your name? \")\n",
        "    guess = int(input(\"What is your guess? \"))\n",
        "    attempts -= 1  # Decrease the number of attempts\n",
        "    print(f\"You have {attempts} attempts left.\")\n",
        "\n",
        "    if guess > pick:\n",
        "        print(f\"Your guess: {guess} is too high  for {pick}!\")\n",
        "    elif guess < pick:\n",
        "        print(f\"Your guess: {guess} is too low for {pick}!\")\n",
        "    else:\n",
        "        print(f\"Correct! Well done, {name}! The number was {pick}.\")\n",
        "        break  # End the game if the guess is correct\n",
        "\n",
        "    # Check if the user ran out of attempts\n",
        "    if attempts == 0:\n",
        "        print(f\"Sorry, {name}, you ran out of attempts! The correct number was {pick}.\")\n"
      ],
      "metadata": {
        "id": "0FRJCggBNcK6",
        "colab": {
          "base_uri": "https://localhost:8080/"
        },
        "outputId": "5e44027d-90a0-423b-fe22-eda59b586bb5"
      },
      "execution_count": null,
      "outputs": [
        {
          "name": "stdout",
          "output_type": "stream",
          "text": [
            "Guess the Number!\n",
            "What is your name? A\n",
            "What is your guess? 33\n",
            "You have 4 attempts left.\n",
            "Your guess: 33 is too high  for 16!\n",
            "What is your name? 4\n",
            "What is your guess? 16\n",
            "You have 3 attempts left.\n",
            "Correct! Well done, 4! The number was 16.\n",
            "Guess the Number!\n",
            "What is your name? a\n"
          ]
        }
      ]
    },
    {
      "cell_type": "code",
      "source": [
        "number= int(input(\"Please enter a number: \"))\n",
        "for _ in range(1 , N +1):\n",
        "  number +=_\n",
        "  if number % 2 == 0:\n",
        "    print(number)"
      ],
      "metadata": {
        "id": "OeW-FZLvDVw1"
      },
      "execution_count": null,
      "outputs": []
    },
    {
      "cell_type": "code",
      "source": [
        "print(\"Sum of All Positive Numbers\")\n",
        "\n",
        "sum = 0\n",
        "while True:\n",
        "  user = int(input(\"Enter a number: \"))\n",
        "  if user > 0:\n",
        "   sum += user\n",
        "  else:\n",
        "    print(sum)\n",
        "    break"
      ],
      "metadata": {
        "colab": {
          "base_uri": "https://localhost:8080/"
        },
        "id": "9KqrlvInJgjz",
        "outputId": "5065a52a-53e3-4c75-e593-9f95ca035687"
      },
      "execution_count": null,
      "outputs": [
        {
          "output_type": "stream",
          "name": "stdout",
          "text": [
            "Sum of All Positive Numbers\n",
            "Enter a number: 3\n",
            "Enter a number: 3\n",
            "Enter a number: 3\n",
            "Enter a number: -1\n",
            "9\n"
          ]
        }
      ]
    }
  ],
  "metadata": {
    "colab": {
      "provenance": []
    },
    "kernelspec": {
      "display_name": "Python 3",
      "name": "python3"
    },
    "language_info": {
      "name": "python"
    }
  },
  "nbformat": 4,
  "nbformat_minor": 0
}